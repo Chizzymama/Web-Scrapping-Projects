{
  "nbformat": 4,
  "nbformat_minor": 0,
  "metadata": {
    "colab": {
      "provenance": []
    },
    "kernelspec": {
      "name": "python3",
      "display_name": "Python 3"
    },
    "language_info": {
      "name": "python"
    }
  },
  "cells": [
    {
      "cell_type": "code",
      "execution_count": null,
      "metadata": {
        "id": "J4U0nHTgms8l"
      },
      "outputs": [],
      "source": [
        "#importing the necessary libraries\n",
        "\n",
        "import pandas as pd\n",
        "import requests\n",
        "from bs4 import BeautifulSoup"
      ]
    },
    {
      "cell_type": "code",
      "source": [
        "Url ='https://news.ycombinator.com/'\n",
        "\n",
        "Url"
      ],
      "metadata": {
        "colab": {
          "base_uri": "https://localhost:8080/",
          "height": 35
        },
        "id": "4YvaztwSm9p7",
        "outputId": "8732c84d-2855-49ff-c6d6-5ac515764139"
      },
      "execution_count": null,
      "outputs": [
        {
          "output_type": "execute_result",
          "data": {
            "text/plain": [
              "'https://news.ycombinator.com/'"
            ],
            "application/vnd.google.colaboratory.intrinsic+json": {
              "type": "string"
            }
          },
          "metadata": {},
          "execution_count": 2
        }
      ]
    },
    {
      "cell_type": "code",
      "source": [
        "response = requests.get(Url)\n",
        "\n",
        "response.status_code"
      ],
      "metadata": {
        "colab": {
          "base_uri": "https://localhost:8080/"
        },
        "id": "VbdZUpw2m-SD",
        "outputId": "ed3c8e7b-fbf8-49d6-88f7-daf8991f01a6"
      },
      "execution_count": null,
      "outputs": [
        {
          "output_type": "execute_result",
          "data": {
            "text/plain": [
              "200"
            ]
          },
          "metadata": {},
          "execution_count": 3
        }
      ]
    },
    {
      "cell_type": "code",
      "source": [
        "response.content"
      ],
      "metadata": {
        "colab": {
          "base_uri": "https://localhost:8080/"
        },
        "id": "d2AAhDIznBXa",
        "outputId": "278d173e-30e7-4121-9a2d-1e233013cf6a"
      },
      "execution_count": null,
      "outputs": [
        {
          "output_type": "execute_result",
          "data": {
            "text/plain": [
              "b'<html lang=\"en\" op=\"news\"><head><meta name=\"referrer\" content=\"origin\"><meta name=\"viewport\" content=\"width=device-width, initial-scale=1.0\"><link rel=\"stylesheet\" type=\"text/css\" href=\"news.css?lvYOTeaZKqFhcJaaAifQ\">\\n        <link rel=\"icon\" href=\"y18.svg\">\\n                  <link rel=\"alternate\" type=\"application/rss+xml\" title=\"RSS\" href=\"rss\">\\n        <title>Hacker News</title></head><body><center><table id=\"hnmain\" border=\"0\" cellpadding=\"0\" cellspacing=\"0\" width=\"85%\" bgcolor=\"#f6f6ef\">\\n        <tr><td bgcolor=\"#ff6600\"><table border=\"0\" cellpadding=\"0\" cellspacing=\"0\" width=\"100%\" style=\"padding:2px\"><tr><td style=\"width:18px;padding-right:4px\"><a href=\"https://news.ycombinator.com\"><img src=\"y18.svg\" width=\"18\" height=\"18\" style=\"border:1px white solid; display:block\"></a></td>\\n                  <td style=\"line-height:12pt; height:10px;\"><span class=\"pagetop\"><b class=\"hnname\"><a href=\"news\">Hacker News</a></b>\\n                            <a href=\"newest\">new</a> | <a href=\"front\">past</a> | <a href=\"newcomments\">comments</a> | <a href=\"ask\">ask</a> | <a href=\"show\">show</a> | <a href=\"jobs\">jobs</a> | <a href=\"submit\" rel=\"nofollow\">submit</a>            </span></td><td style=\"text-align:right;padding-right:4px;\"><span class=\"pagetop\">\\n                              <a href=\"login?goto=news\">login</a>\\n                          </span></td>\\n              </tr></table></td></tr>\\n<tr id=\"pagespace\" title=\"\" style=\"height:10px\"></tr><tr><td><table border=\"0\" cellpadding=\"0\" cellspacing=\"0\">\\n            <tr class=\\'athing submission\\' id=\\'43734706\\'>\\n      <td align=\"right\" valign=\"top\" class=\"title\"><span class=\"rank\">1.</span></td>      <td valign=\"top\" class=\"votelinks\"><center><a id=\\'up_43734706\\' href=\\'vote?id=43734706&amp;how=up&amp;goto=news\\'><div class=\\'votearrow\\' title=\\'upvote\\'></div></a></center></td><td class=\"title\"><span class=\"titleline\"><a href=\"https://www.servethehome.com/synology-lost-the-plot-with-hard-drive-locking-move/\">Synology Lost the Plot with Hard Drive Locking Move</a><span class=\"sitebit comhead\"> (<a href=\"from?site=servethehome.com\"><span class=\"sitestr\">servethehome.com</span></a>)</span></span></td></tr><tr><td colspan=\"2\"></td><td class=\"subtext\"><span class=\"subline\">\\n          <span class=\"score\" id=\"score_43734706\">341 points</span> by <a href=\"user?id=motiejus\" class=\"hnuser\">motiejus</a> <span class=\"age\" title=\"2025-04-19T06:48:21 1745045301\"><a href=\"item?id=43734706\">6 hours ago</a></span> <span id=\"unv_43734706\"></span> | <a href=\"hide?id=43734706&amp;goto=news\">hide</a> | <a href=\"item?id=43734706\">188&nbsp;comments</a>        </span>\\n              </td></tr>\\n      <tr class=\"spacer\" style=\"height:5px\"></tr>\\n                <tr class=\\'athing submission\\' id=\\'43759073\\'>\\n      <td align=\"right\" valign=\"top\" class=\"title\"><span class=\"rank\">2.</span></td>      <td valign=\"top\" class=\"votelinks\"><center><a id=\\'up_43759073\\' href=\\'vote?id=43759073&amp;how=up&amp;goto=news\\'><div class=\\'votearrow\\' title=\\'upvote\\'></div></a></center></td><td class=\"title\"><span class=\"titleline\"><a href=\"https://blog.videah.net/attacking-my-landlords-boiler/\">Attacking My Landlord&#x27;s Boiler</a><span class=\"sitebit comhead\"> (<a href=\"from?site=videah.net\"><span class=\"sitestr\">videah.net</span></a>)</span></span></td></tr><tr><td colspan=\"2\"></td><td class=\"subtext\"><span class=\"subline\">\\n          <span class=\"score\" id=\"score_43759073\">76 points</span> by <a href=\"user?id=ericvolp12\" class=\"hnuser\">ericvolp12</a> <span class=\"age\" title=\"2025-04-22T04:27:40 1745296060\"><a href=\"item?id=43759073\">3 hours ago</a></span> <span id=\"unv_43759073\"></span> | <a href=\"hide?id=43759073&amp;goto=news\">hide</a> | <a href=\"item?id=43759073\">30&nbsp;comments</a>        </span>\\n              </td></tr>\\n      <tr class=\"spacer\" style=\"height:5px\"></tr>\\n                <tr class=\\'athing submission\\' id=\\'43757037\\'>\\n      <td align=\"right\" valign=\"top\" class=\"title\"><span class=\"rank\">3.</span></td>      <td valign=\"top\" class=\"votelinks\"><center><a id=\\'up_43757037\\' href=\\'vote?id=43757037&amp;how=up&amp;goto=news\\'><div class=\\'votearrow\\' title=\\'upvote\\'></div></a></center></td><td class=\"title\"><span class=\"titleline\"><a href=\"https://github.com/ericjenott/Evertop\">Evertop: E-ink IBM XT clone with 100+ hours of battery life</a><span class=\"sitebit comhead\"> (<a href=\"from?site=github.com/ericjenott\"><span class=\"sitestr\">github.com/ericjenott</span></a>)</span></span></td></tr><tr><td colspan=\"2\"></td><td class=\"subtext\"><span class=\"subline\">\\n          <span class=\"score\" id=\"score_43757037\">372 points</span> by <a href=\"user?id=harryvederci\" class=\"hnuser\">harryvederci</a> <span class=\"age\" title=\"2025-04-21T22:07:49 1745273269\"><a href=\"item?id=43757037\">10 hours ago</a></span> <span id=\"unv_43757037\"></span> | <a href=\"hide?id=43757037&amp;goto=news\">hide</a> | <a href=\"item?id=43757037\">127&nbsp;comments</a>        </span>\\n              </td></tr>\\n      <tr class=\"spacer\" style=\"height:5px\"></tr>\\n                <tr class=\\'athing submission\\' id=\\'43745987\\'>\\n      <td align=\"right\" valign=\"top\" class=\"title\"><span class=\"rank\">4.</span></td>      <td valign=\"top\" class=\"votelinks\"><center><a id=\\'up_43745987\\' href=\\'vote?id=43745987&amp;how=up&amp;goto=news\\'><div class=\\'votearrow\\' title=\\'upvote\\'></div></a></center></td><td class=\"title\"><span class=\"titleline\"><a href=\"https://github.com/secure-foundations/verus\">Verus: Verified Rust for low-level systems code</a><span class=\"sitebit comhead\"> (<a href=\"from?site=github.com/secure-foundations\"><span class=\"sitestr\">github.com/secure-foundations</span></a>)</span></span></td></tr><tr><td colspan=\"2\"></td><td class=\"subtext\"><span class=\"subline\">\\n          <span class=\"score\" id=\"score_43745987\">50 points</span> by <a href=\"user?id=mmcloughlin\" class=\"hnuser\">mmcloughlin</a> <span class=\"age\" title=\"2025-04-20T19:38:29 1745177909\"><a href=\"item?id=43745987\">3 hours ago</a></span> <span id=\"unv_43745987\"></span> | <a href=\"hide?id=43745987&amp;goto=news\">hide</a> | <a href=\"item?id=43745987\">5&nbsp;comments</a>        </span>\\n              </td></tr>\\n      <tr class=\"spacer\" style=\"height:5px\"></tr>\\n                <tr class=\\'athing submission\\' id=\\'43758999\\'>\\n      <td align=\"right\" valign=\"top\" class=\"title\"><span class=\"rank\">5.</span></td>      <td valign=\"top\" class=\"votelinks\"><center><a id=\\'up_43758999\\' href=\\'vote?id=43758999&amp;how=up&amp;goto=news\\'><div class=\\'votearrow\\' title=\\'upvote\\'></div></a></center></td><td class=\"title\"><span class=\"titleline\"><a href=\"https://mcr21.org.uk/\">Welcome to our website for the 1963 BBC MCR21 OB Van</a><span class=\"sitebit comhead\"> (<a href=\"from?site=mcr21.org.uk\"><span class=\"sitestr\">mcr21.org.uk</span></a>)</span></span></td></tr><tr><td colspan=\"2\"></td><td class=\"subtext\"><span class=\"subline\">\\n          <span class=\"score\" id=\"score_43758999\">44 points</span> by <a href=\"user?id=brudgers\" class=\"hnuser\">brudgers</a> <span class=\"age\" title=\"2025-04-22T04:07:04 1745294824\"><a href=\"item?id=43758999\">4 hours ago</a></span> <span id=\"unv_43758999\"></span> | <a href=\"hide?id=43758999&amp;goto=news\">hide</a> | <a href=\"item?id=43758999\">discuss</a>        </span>\\n              </td></tr>\\n      <tr class=\"spacer\" style=\"height:5px\"></tr>\\n                <tr class=\\'athing submission\\' id=\\'43754953\\'>\\n      <td align=\"right\" valign=\"top\" class=\"title\"><span class=\"rank\">6.</span></td>      <td valign=\"top\" class=\"votelinks\"><center><a id=\\'up_43754953\\' href=\\'vote?id=43754953&amp;how=up&amp;goto=news\\'><div class=\\'votearrow\\' title=\\'upvote\\'></div></a></center></td><td class=\"title\"><span class=\"titleline\"><a href=\"https://blog.infected.systems/posts/2025-04-21-this-blog-is-hosted-on-a-nintendo-wii/\">Blog hosted on a Nintendo Wii</a><span class=\"sitebit comhead\"> (<a href=\"from?site=infected.systems\"><span class=\"sitestr\">infected.systems</span></a>)</span></span></td></tr><tr><td colspan=\"2\"></td><td class=\"subtext\"><span class=\"subline\">\\n          <span class=\"score\" id=\"score_43754953\">465 points</span> by <a href=\"user?id=edent\" class=\"hnuser\">edent</a> <span class=\"age\" title=\"2025-04-21T18:29:04 1745260144\"><a href=\"item?id=43754953\">13 hours ago</a></span> <span id=\"unv_43754953\"></span> | <a href=\"hide?id=43754953&amp;goto=news\">hide</a> | <a href=\"item?id=43754953\">90&nbsp;comments</a>        </span>\\n              </td></tr>\\n      <tr class=\"spacer\" style=\"height:5px\"></tr>\\n                <tr class=\\'athing submission\\' id=\\'43754124\\'>\\n      <td align=\"right\" valign=\"top\" class=\"title\"><span class=\"rank\">7.</span></td>      <td valign=\"top\" class=\"votelinks\"><center><a id=\\'up_43754124\\' href=\\'vote?id=43754124&amp;how=up&amp;goto=news\\'><div class=\\'votearrow\\' title=\\'upvote\\'></div></a></center></td><td class=\"title\"><span class=\"titleline\"><a href=\"https://github.com/nari-labs/dia\">Show HN: Dia, an open-weights TTS model for generating realistic dialogue</a><span class=\"sitebit comhead\"> (<a href=\"from?site=github.com/nari-labs\"><span class=\"sitestr\">github.com/nari-labs</span></a>)</span></span></td></tr><tr><td colspan=\"2\"></td><td class=\"subtext\"><span class=\"subline\">\\n          <span class=\"score\" id=\"score_43754124\">478 points</span> by <a href=\"user?id=toebee\" class=\"hnuser\">toebee</a> <span class=\"age\" title=\"2025-04-21T17:07:07 1745255227\"><a href=\"item?id=43754124\">15 hours ago</a></span> <span id=\"unv_43754124\"></span> | <a href=\"hide?id=43754124&amp;goto=news\">hide</a> | <a href=\"item?id=43754124\">144&nbsp;comments</a>        </span>\\n              </td></tr>\\n      <tr class=\"spacer\" style=\"height:5px\"></tr>\\n                <tr class=\\'athing submission\\' id=\\'43757916\\'>\\n      <td align=\"right\" valign=\"top\" class=\"title\"><span class=\"rank\">8.</span></td>      <td valign=\"top\" class=\"votelinks\"><center><a id=\\'up_43757916\\' href=\\'vote?id=43757916&amp;how=up&amp;goto=news\\'><div class=\\'votearrow\\' title=\\'upvote\\'></div></a></center></td><td class=\"title\"><span class=\"titleline\"><a href=\"https://github.com/stefanrodrigues2/Prolog-Adventure-game\">Prolog Adventure Game</a><span class=\"sitebit comhead\"> (<a href=\"from?site=github.com/stefanrodrigues2\"><span class=\"sitestr\">github.com/stefanrodrigues2</span></a>)</span></span></td></tr><tr><td colspan=\"2\"></td><td class=\"subtext\"><span class=\"subline\">\\n          <span class=\"score\" id=\"score_43757916\">98 points</span> by <a href=\"user?id=shakna\" class=\"hnuser\">shakna</a> <span class=\"age\" title=\"2025-04-22T00:25:12 1745281512\"><a href=\"item?id=43757916\">8 hours ago</a></span> <span id=\"unv_43757916\"></span> | <a href=\"hide?id=43757916&amp;goto=news\">hide</a> | <a href=\"item?id=43757916\">12&nbsp;comments</a>        </span>\\n              </td></tr>\\n      <tr class=\"spacer\" style=\"height:5px\"></tr>\\n                <tr class=\\'athing submission\\' id=\\'43759436\\'>\\n      <td align=\"right\" valign=\"top\" class=\"title\"><span class=\"rank\">9.</span></td>      <td valign=\"top\" class=\"votelinks\"><center><a id=\\'up_43759436\\' href=\\'vote?id=43759436&amp;how=up&amp;goto=news\\'><div class=\\'votearrow\\' title=\\'upvote\\'></div></a></center></td><td class=\"title\"><span class=\"titleline\"><a href=\"https://www.fujitsu.com/global/about/resources/news/press-releases/2025/0422-01.html\">Fujitsu and RIKEN develop world-leading 256-qubit sup quantum computer</a><span class=\"sitebit comhead\"> (<a href=\"from?site=fujitsu.com\"><span class=\"sitestr\">fujitsu.com</span></a>)</span></span></td></tr><tr><td colspan=\"2\"></td><td class=\"subtext\"><span class=\"subline\">\\n          <span class=\"score\" id=\"score_43759436\">11 points</span> by <a href=\"user?id=donutloop\" class=\"hnuser\">donutloop</a> <span class=\"age\" title=\"2025-04-22T05:59:28 1745301568\"><a href=\"item?id=43759436\">2 hours ago</a></span> <span id=\"unv_43759436\"></span> | <a href=\"hide?id=43759436&amp;goto=news\">hide</a> | <a href=\"item?id=43759436\">discuss</a>        </span>\\n              </td></tr>\\n      <tr class=\"spacer\" style=\"height:5px\"></tr>\\n                <tr class=\\'athing submission\\' id=\\'43757341\\'>\\n      <td align=\"right\" valign=\"top\" class=\"title\"><span class=\"rank\">10.</span></td>      <td valign=\"top\" class=\"votelinks\"><center><a id=\\'up_43757341\\' href=\\'vote?id=43757341&amp;how=up&amp;goto=news\\'><div class=\\'votearrow\\' title=\\'upvote\\'></div></a></center></td><td class=\"title\"><span class=\"titleline\"><a href=\"https://github.com/maurymarkowitz/101-BASIC-Computer-Games\">101 BASIC Computer Games</a><span class=\"sitebit comhead\"> (<a href=\"from?site=github.com/maurymarkowitz\"><span class=\"sitestr\">github.com/maurymarkowitz</span></a>)</span></span></td></tr><tr><td colspan=\"2\"></td><td class=\"subtext\"><span class=\"subline\">\\n          <span class=\"score\" id=\"score_43757341\">78 points</span> by <a href=\"user?id=sohkamyung\" class=\"hnuser\">sohkamyung</a> <span class=\"age\" title=\"2025-04-21T22:47:38 1745275658\"><a href=\"item?id=43757341\">9 hours ago</a></span> <span id=\"unv_43757341\"></span> | <a href=\"hide?id=43757341&amp;goto=news\">hide</a> | <a href=\"item?id=43757341\">50&nbsp;comments</a>        </span>\\n              </td></tr>\\n      <tr class=\"spacer\" style=\"height:5px\"></tr>\\n                <tr class=\\'athing submission\\' id=\\'43733683\\'>\\n      <td align=\"right\" valign=\"top\" class=\"title\"><span class=\"rank\">11.</span></td>      <td valign=\"top\" class=\"votelinks\"><center><a id=\\'up_43733683\\' href=\\'vote?id=43733683&amp;how=up&amp;goto=news\\'><div class=\\'votearrow\\' title=\\'upvote\\'></div></a></center></td><td class=\"title\"><span class=\"titleline\"><a href=\"https://arxiv.org/abs/2503.18813\">CaMeL: Defeating Prompt Injections by Design</a><span class=\"sitebit comhead\"> (<a href=\"from?site=arxiv.org\"><span class=\"sitestr\">arxiv.org</span></a>)</span></span></td></tr><tr><td colspan=\"2\"></td><td class=\"subtext\"><span class=\"subline\">\\n          <span class=\"score\" id=\"score_43733683\">35 points</span> by <a href=\"user?id=tomrod\" class=\"hnuser\">tomrod</a> <span class=\"age\" title=\"2025-04-19T02:20:06 1745029206\"><a href=\"item?id=43733683\">4 hours ago</a></span> <span id=\"unv_43733683\"></span> | <a href=\"hide?id=43733683&amp;goto=news\">hide</a> | <a href=\"item?id=43733683\">7&nbsp;comments</a>        </span>\\n              </td></tr>\\n      <tr class=\"spacer\" style=\"height:5px\"></tr>\\n                <tr class=\\'athing submission\\' id=\\'43756871\\'>\\n      <td align=\"right\" valign=\"top\" class=\"title\"><span class=\"rank\">12.</span></td>      <td valign=\"top\" class=\"votelinks\"><center><a id=\\'up_43756871\\' href=\\'vote?id=43756871&amp;how=up&amp;goto=news\\'><div class=\\'votearrow\\' title=\\'upvote\\'></div></a></center></td><td class=\"title\"><span class=\"titleline\"><a href=\"https://mcyoung.xyz/2025/04/21/go-arenas/\">Cheating the Reaper in Go</a><span class=\"sitebit comhead\"> (<a href=\"from?site=mcyoung.xyz\"><span class=\"sitestr\">mcyoung.xyz</span></a>)</span></span></td></tr><tr><td colspan=\"2\"></td><td class=\"subtext\"><span class=\"subline\">\\n          <span class=\"score\" id=\"score_43756871\">112 points</span> by <a href=\"user?id=ingve\" class=\"hnuser\">ingve</a> <span class=\"age\" title=\"2025-04-21T21:46:32 1745271992\"><a href=\"item?id=43756871\">9 hours ago</a></span> <span id=\"unv_43756871\"></span> | <a href=\"hide?id=43756871&amp;goto=news\">hide</a> | <a href=\"item?id=43756871\">16&nbsp;comments</a>        </span>\\n              </td></tr>\\n      <tr class=\"spacer\" style=\"height:5px\"></tr>\\n                <tr class=\\'athing submission\\' id=\\'43752176\\'>\\n      <td align=\"right\" valign=\"top\" class=\"title\"><span class=\"rank\">13.</span></td>      <td valign=\"top\" class=\"votelinks\"><center><a id=\\'up_43752176\\' href=\\'vote?id=43752176&amp;how=up&amp;goto=news\\'><div class=\\'votearrow\\' title=\\'upvote\\'></div></a></center></td><td class=\"title\"><span class=\"titleline\"><a href=\"item?id=43752176\">Launch HN: Magic Patterns (YC W23) \\xe2\\x80\\x93 AI Design and Prototyping for Product Teams</a></span></td></tr><tr><td colspan=\"2\"></td><td class=\"subtext\"><span class=\"subline\">\\n          <span class=\"score\" id=\"score_43752176\">145 points</span> by <a href=\"user?id=alexdanilowicz\" class=\"hnuser\">alexdanilowicz</a> <span class=\"age\" title=\"2025-04-21T14:07:03 1745244423\"><a href=\"item?id=43752176\">17 hours ago</a></span> <span id=\"unv_43752176\"></span> | <a href=\"hide?id=43752176&amp;goto=news\">hide</a> | <a href=\"item?id=43752176\">89&nbsp;comments</a>        </span>\\n              </td></tr>\\n      <tr class=\"spacer\" style=\"height:5px\"></tr>\\n                <tr class=\\'athing submission\\' id=\\'43755017\\'>\\n      <td align=\"right\" valign=\"top\" class=\"title\"><span class=\"rank\">14.</span></td>      <td valign=\"top\" class=\"votelinks\"><center><a id=\\'up_43755017\\' href=\\'vote?id=43755017&amp;how=up&amp;goto=news\\'><div class=\\'votearrow\\' title=\\'upvote\\'></div></a></center></td><td class=\"title\"><span class=\"titleline\"><a href=\"https://phys.org/news/2025-04-astronomers-lone-black-hole.html\">Astronomers confirm the existence of a lone black hole</a><span class=\"sitebit comhead\"> (<a href=\"from?site=phys.org\"><span class=\"sitestr\">phys.org</span></a>)</span></span></td></tr><tr><td colspan=\"2\"></td><td class=\"subtext\"><span class=\"subline\">\\n          <span class=\"score\" id=\"score_43755017\">171 points</span> by <a href=\"user?id=wglb\" class=\"hnuser\">wglb</a> <span class=\"age\" title=\"2025-04-21T18:36:23 1745260583\"><a href=\"item?id=43755017\">13 hours ago</a></span> <span id=\"unv_43755017\"></span> | <a href=\"hide?id=43755017&amp;goto=news\">hide</a> | <a href=\"item?id=43755017\">120&nbsp;comments</a>        </span>\\n              </td></tr>\\n      <tr class=\"spacer\" style=\"height:5px\"></tr>\\n                <tr class=\\'athing submission\\' id=\\'43758965\\'>\\n      <td align=\"right\" valign=\"top\" class=\"title\"><span class=\"rank\">15.</span></td>      <td valign=\"top\" class=\"votelinks\"><center><a id=\\'up_43758965\\' href=\\'vote?id=43758965&amp;how=up&amp;goto=news\\'><div class=\\'votearrow\\' title=\\'upvote\\'></div></a></center></td><td class=\"title\"><span class=\"titleline\"><a href=\"https://www.wsj.com/arts-culture/books/world-war-zoos-review-of-bombs-and-beasts-a037c4b6\">&#x27;World War Zoos&#x27; Review: Of Bombs and Beasts</a><span class=\"sitebit comhead\"> (<a href=\"from?site=wsj.com\"><span class=\"sitestr\">wsj.com</span></a>)</span></span></td></tr><tr><td colspan=\"2\"></td><td class=\"subtext\"><span class=\"subline\">\\n          <span class=\"score\" id=\"score_43758965\">18 points</span> by <a href=\"user?id=pepys\" class=\"hnuser\">pepys</a> <span class=\"age\" title=\"2025-04-22T03:57:47 1745294267\"><a href=\"item?id=43758965\">4 hours ago</a></span> <span id=\"unv_43758965\"></span> | <a href=\"hide?id=43758965&amp;goto=news\">hide</a> | <a href=\"item?id=43758965\">1&nbsp;comment</a>        </span>\\n              </td></tr>\\n      <tr class=\"spacer\" style=\"height:5px\"></tr>\\n                <tr class=\\'athing submission\\' id=\\'43753651\\'>\\n      <td align=\"right\" valign=\"top\" class=\"title\"><span class=\"rank\">16.</span></td>      <td valign=\"top\" class=\"votelinks\"><center><a id=\\'up_43753651\\' href=\\'vote?id=43753651&amp;how=up&amp;goto=news\\'><div class=\\'votearrow\\' title=\\'upvote\\'></div></a></center></td><td class=\"title\"><span class=\"titleline\"><a href=\"https://bsky.social/about/blog/04-21-2025-verification\">A new form of verification on Bluesky</a><span class=\"sitebit comhead\"> (<a href=\"from?site=bsky.social\"><span class=\"sitestr\">bsky.social</span></a>)</span></span></td></tr><tr><td colspan=\"2\"></td><td class=\"subtext\"><span class=\"subline\">\\n          <span class=\"score\" id=\"score_43753651\">306 points</span> by <a href=\"user?id=ink_13\" class=\"hnuser\">ink_13</a> <span class=\"age\" title=\"2025-04-21T16:16:51 1745252211\"><a href=\"item?id=43753651\">16 hours ago</a></span> <span id=\"unv_43753651\"></span> | <a href=\"hide?id=43753651&amp;goto=news\">hide</a> | <a href=\"item?id=43753651\">209&nbsp;comments</a>        </span>\\n              </td></tr>\\n      <tr class=\"spacer\" style=\"height:5px\"></tr>\\n                <tr class=\\'athing submission\\' id=\\'43758936\\'>\\n      <td align=\"right\" valign=\"top\" class=\"title\"><span class=\"rank\">17.</span></td>      <td valign=\"top\" class=\"votelinks\"><center><a id=\\'up_43758936\\' href=\\'vote?id=43758936&amp;how=up&amp;goto=news\\'><div class=\\'votearrow\\' title=\\'upvote\\'></div></a></center></td><td class=\"title\"><span class=\"titleline\"><a href=\"https://peterwildeford.substack.com/p/forecaster-reacts-metrs-bombshell\">Forecaster reacts: METR&#x27;s bombshell paper about AI acceleration</a><span class=\"sitebit comhead\"> (<a href=\"from?site=peterwildeford.substack.com\"><span class=\"sitestr\">peterwildeford.substack.com</span></a>)</span></span></td></tr><tr><td colspan=\"2\"></td><td class=\"subtext\"><span class=\"subline\">\\n          <span class=\"score\" id=\"score_43758936\">29 points</span> by <a href=\"user?id=nopinsight\" class=\"hnuser\">nopinsight</a> <span class=\"age\" title=\"2025-04-22T03:50:20 1745293820\"><a href=\"item?id=43758936\">4 hours ago</a></span> <span id=\"unv_43758936\"></span> | <a href=\"hide?id=43758936&amp;goto=news\">hide</a> | <a href=\"item?id=43758936\">23&nbsp;comments</a>        </span>\\n              </td></tr>\\n      <tr class=\"spacer\" style=\"height:5px\"></tr>\\n                <tr class=\\'athing submission\\' id=\\'43735764\\'>\\n      <td align=\"right\" valign=\"top\" class=\"title\"><span class=\"rank\">18.</span></td>      <td valign=\"top\" class=\"votelinks\"><center><a id=\\'up_43735764\\' href=\\'vote?id=43735764&amp;how=up&amp;goto=news\\'><div class=\\'votearrow\\' title=\\'upvote\\'></div></a></center></td><td class=\"title\"><span class=\"titleline\"><a href=\"https://lwn.net/Articles/1016243/\">An Update on Pahole</a><span class=\"sitebit comhead\"> (<a href=\"from?site=lwn.net\"><span class=\"sitestr\">lwn.net</span></a>)</span></span></td></tr><tr><td colspan=\"2\"></td><td class=\"subtext\"><span class=\"subline\">\\n          <span class=\"score\" id=\"score_43735764\">26 points</span> by <a href=\"user?id=signa11\" class=\"hnuser\">signa11</a> <span class=\"age\" title=\"2025-04-19T11:43:08 1745062988\"><a href=\"item?id=43735764\">6 hours ago</a></span> <span id=\"unv_43735764\"></span> | <a href=\"hide?id=43735764&amp;goto=news\">hide</a> | <a href=\"item?id=43735764\">discuss</a>        </span>\\n              </td></tr>\\n      <tr class=\"spacer\" style=\"height:5px\"></tr>\\n                <tr class=\\'athing submission\\' id=\\'43752492\\'>\\n      <td align=\"right\" valign=\"top\" class=\"title\"><span class=\"rank\">19.</span></td>      <td valign=\"top\" class=\"votelinks\"><center><a id=\\'up_43752492\\' href=\\'vote?id=43752492&amp;how=up&amp;goto=news\\'><div class=\\'votearrow\\' title=\\'upvote\\'></div></a></center></td><td class=\"title\"><span class=\"titleline\"><a href=\"https://matthewsinclair.com/blog/0178-why-llm-powered-programming-is-more-mech-suit-than-artificial-human\">LLM-powered tools amplify developer capabilities rather than replacing them</a><span class=\"sitebit comhead\"> (<a href=\"from?site=matthewsinclair.com\"><span class=\"sitestr\">matthewsinclair.com</span></a>)</span></span></td></tr><tr><td colspan=\"2\"></td><td class=\"subtext\"><span class=\"subline\">\\n          <span class=\"score\" id=\"score_43752492\">269 points</span> by <a href=\"user?id=matthewsinclair\" class=\"hnuser\">matthewsinclair</a> <span class=\"age\" title=\"2025-04-21T14:36:14 1745246174\"><a href=\"item?id=43752492\">17 hours ago</a></span> <span id=\"unv_43752492\"></span> | <a href=\"hide?id=43752492&amp;goto=news\">hide</a> | <a href=\"item?id=43752492\">172&nbsp;comments</a>        </span>\\n              </td></tr>\\n      <tr class=\"spacer\" style=\"height:5px\"></tr>\\n                <tr class=\\'athing submission\\' id=\\'43751076\\'>\\n      <td align=\"right\" valign=\"top\" class=\"title\"><span class=\"rank\">20.</span></td>      <td valign=\"top\" class=\"votelinks\"><center><a id=\\'up_43751076\\' href=\\'vote?id=43751076&amp;how=up&amp;goto=news\\'><div class=\\'votearrow\\' title=\\'upvote\\'></div></a></center></td><td class=\"title\"><span class=\"titleline\"><a href=\"https://herecomesthemoon.net/2025/04/pipelining/\">Pipelining might be my favorite programming language feature</a><span class=\"sitebit comhead\"> (<a href=\"from?site=herecomesthemoon.net\"><span class=\"sitestr\">herecomesthemoon.net</span></a>)</span></span></td></tr><tr><td colspan=\"2\"></td><td class=\"subtext\"><span class=\"subline\">\\n          <span class=\"score\" id=\"score_43751076\">309 points</span> by <a href=\"user?id=Mond_\" class=\"hnuser\">Mond_</a> <span class=\"age\" title=\"2025-04-21T12:16:16 1745237776\"><a href=\"item?id=43751076\">20 hours ago</a></span> <span id=\"unv_43751076\"></span> | <a href=\"hide?id=43751076&amp;goto=news\">hide</a> | <a href=\"item?id=43751076\">278&nbsp;comments</a>        </span>\\n              </td></tr>\\n      <tr class=\"spacer\" style=\"height:5px\"></tr>\\n                <tr class=\\'athing submission\\' id=\\'43756723\\'>\\n      <td align=\"right\" valign=\"top\" class=\"title\"><span class=\"rank\">21.</span></td>      <td valign=\"top\" class=\"votelinks\"><center><a id=\\'up_43756723\\' href=\\'vote?id=43756723&amp;how=up&amp;goto=news\\'><div class=\\'votearrow\\' title=\\'upvote\\'></div></a></center></td><td class=\"title\"><span class=\"titleline\"><a href=\"https://arxiv.org/abs/2504.05001\">Ultra-precision formation flying demonstration for space-based interferometry</a><span class=\"sitebit comhead\"> (<a href=\"from?site=arxiv.org\"><span class=\"sitestr\">arxiv.org</span></a>)</span></span></td></tr><tr><td colspan=\"2\"></td><td class=\"subtext\"><span class=\"subline\">\\n          <span class=\"score\" id=\"score_43756723\">53 points</span> by <a href=\"user?id=PaulHoule\" class=\"hnuser\">PaulHoule</a> <span class=\"age\" title=\"2025-04-21T21:31:40 1745271100\"><a href=\"item?id=43756723\">10 hours ago</a></span> <span id=\"unv_43756723\"></span> | <a href=\"hide?id=43756723&amp;goto=news\">hide</a> | <a href=\"item?id=43756723\">14&nbsp;comments</a>        </span>\\n              </td></tr>\\n      <tr class=\"spacer\" style=\"height:5px\"></tr>\\n                <tr class=\\'athing submission\\' id=\\'43755286\\'>\\n      <td align=\"right\" valign=\"top\" class=\"title\"><span class=\"rank\">22.</span></td>      <td valign=\"top\" class=\"votelinks\"><center><a id=\\'up_43755286\\' href=\\'vote?id=43755286&amp;how=up&amp;goto=news\\'><div class=\\'votearrow\\' title=\\'upvote\\'></div></a></center></td><td class=\"title\"><span class=\"titleline\"><a href=\"https://interfacinglinux.com/2025/04/18/magewell-eco-m-2-hdmi-capture-card/\">A M.2 HDMI capture card</a><span class=\"sitebit comhead\"> (<a href=\"from?site=interfacinglinux.com\"><span class=\"sitestr\">interfacinglinux.com</span></a>)</span></span></td></tr><tr><td colspan=\"2\"></td><td class=\"subtext\"><span class=\"subline\">\\n          <span class=\"score\" id=\"score_43755286\">123 points</span> by <a href=\"user?id=Venn1\" class=\"hnuser\">Venn1</a> <span class=\"age\" title=\"2025-04-21T19:01:55 1745262115\"><a href=\"item?id=43755286\">13 hours ago</a></span> <span id=\"unv_43755286\"></span> | <a href=\"hide?id=43755286&amp;goto=news\">hide</a> | <a href=\"item?id=43755286\">46&nbsp;comments</a>        </span>\\n              </td></tr>\\n      <tr class=\"spacer\" style=\"height:5px\"></tr>\\n                <tr class=\\'athing submission\\' id=\\'43730790\\'>\\n      <td align=\"right\" valign=\"top\" class=\"title\"><span class=\"rank\">23.</span></td>      <td valign=\"top\" class=\"votelinks\"><center><a id=\\'up_43730790\\' href=\\'vote?id=43730790&amp;how=up&amp;goto=news\\'><div class=\\'votearrow\\' title=\\'upvote\\'></div></a></center></td><td class=\"title\"><span class=\"titleline\"><a href=\"https://www.michalfarkas.net/moonbugs/\" rel=\"nofollow\">Moon Bugs (2018)</a><span class=\"sitebit comhead\"> (<a href=\"from?site=michalfarkas.net\"><span class=\"sitestr\">michalfarkas.net</span></a>)</span></span></td></tr><tr><td colspan=\"2\"></td><td class=\"subtext\"><span class=\"subline\">\\n          <span class=\"score\" id=\"score_43730790\">4 points</span> by <a href=\"user?id=susam\" class=\"hnuser\">susam</a> <span class=\"age\" title=\"2025-04-18T18:44:27 1745001867\"><a href=\"item?id=43730790\">2 hours ago</a></span> <span id=\"unv_43730790\"></span> | <a href=\"hide?id=43730790&amp;goto=news\">hide</a> | <a href=\"item?id=43730790\">discuss</a>        </span>\\n              </td></tr>\\n      <tr class=\"spacer\" style=\"height:5px\"></tr>\\n                <tr class=\\'athing submission\\' id=\\'43727158\\'>\\n      <td align=\"right\" valign=\"top\" class=\"title\"><span class=\"rank\">24.</span></td>      <td valign=\"top\" class=\"votelinks\"><center><a id=\\'up_43727158\\' href=\\'vote?id=43727158&amp;how=up&amp;goto=news\\'><div class=\\'votearrow\\' title=\\'upvote\\'></div></a></center></td><td class=\"title\"><span class=\"titleline\"><a href=\"https://www.nature.com/articles/s41586-025-08700-0\" rel=\"nofollow\">Phase I&#x2F;II trial of iPS-cell-derived dopaminergic cells for Parkinson&#x27;s disease</a><span class=\"sitebit comhead\"> (<a href=\"from?site=nature.com\"><span class=\"sitestr\">nature.com</span></a>)</span></span></td></tr><tr><td colspan=\"2\"></td><td class=\"subtext\"><span class=\"subline\">\\n          <span class=\"score\" id=\"score_43727158\">7 points</span> by <a href=\"user?id=LinuxBender\" class=\"hnuser\">LinuxBender</a> <span class=\"age\" title=\"2025-04-18T11:46:09 1744976769\"><a href=\"item?id=43727158\">3 hours ago</a></span> <span id=\"unv_43727158\"></span> | <a href=\"hide?id=43727158&amp;goto=news\">hide</a> | <a href=\"item?id=43727158\">discuss</a>        </span>\\n              </td></tr>\\n      <tr class=\"spacer\" style=\"height:5px\"></tr>\\n                <tr class=\\'athing submission\\' id=\\'43752262\\'>\\n      <td align=\"right\" valign=\"top\" class=\"title\"><span class=\"rank\">25.</span></td>      <td valign=\"top\" class=\"votelinks\"><center><a id=\\'up_43752262\\' href=\\'vote?id=43752262&amp;how=up&amp;goto=news\\'><div class=\\'votearrow\\' title=\\'upvote\\'></div></a></center></td><td class=\"title\"><span class=\"titleline\"><a href=\"https://simonwillison.net/2025/Apr/21/ai-assisted-search/\">AI assisted search-based research works now</a><span class=\"sitebit comhead\"> (<a href=\"from?site=simonwillison.net\"><span class=\"sitestr\">simonwillison.net</span></a>)</span></span></td></tr><tr><td colspan=\"2\"></td><td class=\"subtext\"><span class=\"subline\">\\n          <span class=\"score\" id=\"score_43752262\">204 points</span> by <a href=\"user?id=simonw\" class=\"hnuser\">simonw</a> <span class=\"age\" title=\"2025-04-21T14:15:17 1745244917\"><a href=\"item?id=43752262\">18 hours ago</a></span> <span id=\"unv_43752262\"></span> | <a href=\"hide?id=43752262&amp;goto=news\">hide</a> | <a href=\"item?id=43752262\">91&nbsp;comments</a>        </span>\\n              </td></tr>\\n      <tr class=\"spacer\" style=\"height:5px\"></tr>\\n                <tr class=\\'athing submission\\' id=\\'43756309\\'>\\n      <td align=\"right\" valign=\"top\" class=\"title\"><span class=\"rank\">26.</span></td>      <td valign=\"top\" class=\"votelinks\"><center><a id=\\'up_43756309\\' href=\\'vote?id=43756309&amp;how=up&amp;goto=news\\'><div class=\\'votearrow\\' title=\\'upvote\\'></div></a></center></td><td class=\"title\"><span class=\"titleline\"><a href=\"https://www.epic.com/visiting/\">Visiting Us</a><span class=\"sitebit comhead\"> (<a href=\"from?site=epic.com\"><span class=\"sitestr\">epic.com</span></a>)</span></span></td></tr><tr><td colspan=\"2\"></td><td class=\"subtext\"><span class=\"subline\">\\n          <span class=\"score\" id=\"score_43756309\">98 points</span> by <a href=\"user?id=tobr\" class=\"hnuser\">tobr</a> <span class=\"age\" title=\"2025-04-21T20:49:20 1745268560\"><a href=\"item?id=43756309\">11 hours ago</a></span> <span id=\"unv_43756309\"></span> | <a href=\"hide?id=43756309&amp;goto=news\">hide</a> | <a href=\"item?id=43756309\">88&nbsp;comments</a>        </span>\\n              </td></tr>\\n      <tr class=\"spacer\" style=\"height:5px\"></tr>\\n                <tr class=\\'athing submission\\' id=\\'43754620\\'>\\n      <td align=\"right\" valign=\"top\" class=\"title\"><span class=\"rank\">27.</span></td>      <td valign=\"top\" class=\"votelinks\"><center><a id=\\'up_43754620\\' href=\\'vote?id=43754620&amp;how=up&amp;goto=news\\'><div class=\\'votearrow\\' title=\\'upvote\\'></div></a></center></td><td class=\"title\"><span class=\"titleline\"><a href=\"https://github.com/codingmoh/open-codex\">Show HN: Open Codex \\xe2\\x80\\x93 OpenAI Codex CLI with open-source LLMs</a><span class=\"sitebit comhead\"> (<a href=\"from?site=github.com/codingmoh\"><span class=\"sitestr\">github.com/codingmoh</span></a>)</span></span></td></tr><tr><td colspan=\"2\"></td><td class=\"subtext\"><span class=\"subline\">\\n          <span class=\"score\" id=\"score_43754620\">75 points</span> by <a href=\"user?id=codingmoh\" class=\"hnuser\">codingmoh</a> <span class=\"age\" title=\"2025-04-21T17:57:03 1745258223\"><a href=\"item?id=43754620\">14 hours ago</a></span> <span id=\"unv_43754620\"></span> | <a href=\"hide?id=43754620&amp;goto=news\">hide</a> | <a href=\"item?id=43754620\">28&nbsp;comments</a>        </span>\\n              </td></tr>\\n      <tr class=\"spacer\" style=\"height:5px\"></tr>\\n                <tr class=\\'athing submission\\' id=\\'43756417\\'>\\n      <td align=\"right\" valign=\"top\" class=\"title\"><span class=\"rank\">28.</span></td>      <td><img src=\"s.gif\" height=\"1\" width=\"14\"></td>       <td class=\"title\"><span class=\"titleline\"><a href=\"https://www.ycombinator.com/companies/cekura-2/jobs/xaoCPco-founding-engineer\">Cekura (Formerly Vocera) (YC F24) Is Hiring</a><span class=\"sitebit comhead\"> (<a href=\"from?site=ycombinator.com\"><span class=\"sitestr\">ycombinator.com</span></a>)</span></span></td></tr><tr><td colspan=\"2\"></td><td class=\"subtext\">\\n        <span class=\"age\" title=\"2025-04-21T21:00:53 1745269253\"><a href=\"item?id=43756417\">11 hours ago</a></span> | <a href=\"hide?id=43756417&amp;goto=news\">hide</a>      </td></tr>\\n      <tr class=\"spacer\" style=\"height:5px\"></tr>\\n                <tr class=\\'athing submission\\' id=\\'43758762\\'>\\n      <td align=\"right\" valign=\"top\" class=\"title\"><span class=\"rank\">29.</span></td>      <td valign=\"top\" class=\"votelinks\"><center><a id=\\'up_43758762\\' href=\\'vote?id=43758762&amp;how=up&amp;goto=news\\'><div class=\\'votearrow\\' title=\\'upvote\\'></div></a></center></td><td class=\"title\"><span class=\"titleline\"><a href=\"https://arxiv.org/abs/2309.07932\">Flat origami is Turing complete (2023)</a><span class=\"sitebit comhead\"> (<a href=\"from?site=arxiv.org\"><span class=\"sitestr\">arxiv.org</span></a>)</span></span></td></tr><tr><td colspan=\"2\"></td><td class=\"subtext\"><span class=\"subline\">\\n          <span class=\"score\" id=\"score_43758762\">14 points</span> by <a href=\"user?id=PaulHoule\" class=\"hnuser\">PaulHoule</a> <span class=\"age\" title=\"2025-04-22T03:09:50 1745291390\"><a href=\"item?id=43758762\">5 hours ago</a></span> <span id=\"unv_43758762\"></span> | <a href=\"hide?id=43758762&amp;goto=news\">hide</a> | <a href=\"item?id=43758762\">2&nbsp;comments</a>        </span>\\n              </td></tr>\\n      <tr class=\"spacer\" style=\"height:5px\"></tr>\\n                <tr class=\\'athing submission\\' id=\\'43758211\\'>\\n      <td align=\"right\" valign=\"top\" class=\"title\"><span class=\"rank\">30.</span></td>      <td valign=\"top\" class=\"votelinks\"><center><a id=\\'up_43758211\\' href=\\'vote?id=43758211&amp;how=up&amp;goto=news\\'><div class=\\'votearrow\\' title=\\'upvote\\'></div></a></center></td><td class=\"title\"><span class=\"titleline\"><a href=\"https://www.quantamagazine.org/how-a-biofilms-strange-shape-emerges-from-cellular-geometry-20250421/\">How a Biofilm\\xe2\\x80\\x99s Strange Shape Emerges From Cellular Geometry</a><span class=\"sitebit comhead\"> (<a href=\"from?site=quantamagazine.org\"><span class=\"sitestr\">quantamagazine.org</span></a>)</span></span></td></tr><tr><td colspan=\"2\"></td><td class=\"subtext\"><span class=\"subline\">\\n          <span class=\"score\" id=\"score_43758211\">12 points</span> by <a href=\"user?id=pseudolus\" class=\"hnuser\">pseudolus</a> <span class=\"age\" title=\"2025-04-22T01:14:05 1745284445\"><a href=\"item?id=43758211\">7 hours ago</a></span> <span id=\"unv_43758211\"></span> | <a href=\"hide?id=43758211&amp;goto=news\">hide</a> | <a href=\"item?id=43758211\">discuss</a>        </span>\\n              </td></tr>\\n      <tr class=\"spacer\" style=\"height:5px\"></tr>\\n            <tr class=\"morespace\" style=\"height:10px\"></tr><tr><td colspan=\"2\"></td>\\n      <td class=\\'title\\'><a href=\\'?p=2\\' class=\\'morelink\\' rel=\\'next\\'>More</a></td>    </tr>\\n  </table>\\n</td></tr>\\n<tr><td><img src=\"s.gif\" height=\"10\" width=\"0\"><table width=\"100%\" cellspacing=\"0\" cellpadding=\"1\"><tr><td bgcolor=\"#ff6600\"></td></tr></table><br>\\n<center>Join us for <a href=\"https://events.ycombinator.com/ai-sus\"><u>AI Startup School</u></a> this June 16-17 in San Francisco!</center><br>\\n<center><span class=\"yclinks\"><a href=\"newsguidelines.html\">Guidelines</a> | <a href=\"newsfaq.html\">FAQ</a> | <a href=\"lists\">Lists</a> | <a href=\"https://github.com/HackerNews/API\">API</a> | <a href=\"security.html\">Security</a> | <a href=\"https://www.ycombinator.com/legal/\">Legal</a> | <a href=\"https://www.ycombinator.com/apply/\">Apply to YC</a> | <a href=\"mailto:hn@ycombinator.com\">Contact</a></span><br><br>\\n<form method=\"get\" action=\"//hn.algolia.com/\">Search: <input type=\"text\" name=\"q\" size=\"17\" autocorrect=\"off\" spellcheck=\"false\" autocapitalize=\"off\" autocomplete=\"off\"></form></center></td></tr>      </table></center></body>\\n      <script type=\\'text/javascript\\' src=\\'hn.js?lvYOTeaZKqFhcJaaAifQ\\'></script>\\n  </html>\\n'"
            ]
          },
          "metadata": {},
          "execution_count": 4
        }
      ]
    },
    {
      "cell_type": "code",
      "source": [
        "soup = BeautifulSoup(response.content, 'html.parser')"
      ],
      "metadata": {
        "id": "k23qFaWgnC2G"
      },
      "execution_count": null,
      "outputs": []
    },
    {
      "cell_type": "code",
      "source": [
        "#Scrapping the Ranks\n",
        "\n",
        "Ranks = soup.find_all('span', class_=\"rank\")\n",
        "\n",
        "Ranks"
      ],
      "metadata": {
        "colab": {
          "base_uri": "https://localhost:8080/"
        },
        "id": "_aasBZQ7nF3h",
        "outputId": "fea6756f-3aae-47f5-9b78-328505b0cef6"
      },
      "execution_count": null,
      "outputs": [
        {
          "output_type": "execute_result",
          "data": {
            "text/plain": [
              "[<span class=\"rank\">1.</span>,\n",
              " <span class=\"rank\">2.</span>,\n",
              " <span class=\"rank\">3.</span>,\n",
              " <span class=\"rank\">4.</span>,\n",
              " <span class=\"rank\">5.</span>,\n",
              " <span class=\"rank\">6.</span>,\n",
              " <span class=\"rank\">7.</span>,\n",
              " <span class=\"rank\">8.</span>,\n",
              " <span class=\"rank\">9.</span>,\n",
              " <span class=\"rank\">10.</span>,\n",
              " <span class=\"rank\">11.</span>,\n",
              " <span class=\"rank\">12.</span>,\n",
              " <span class=\"rank\">13.</span>,\n",
              " <span class=\"rank\">14.</span>,\n",
              " <span class=\"rank\">15.</span>,\n",
              " <span class=\"rank\">16.</span>,\n",
              " <span class=\"rank\">17.</span>,\n",
              " <span class=\"rank\">18.</span>,\n",
              " <span class=\"rank\">19.</span>,\n",
              " <span class=\"rank\">20.</span>,\n",
              " <span class=\"rank\">21.</span>,\n",
              " <span class=\"rank\">22.</span>,\n",
              " <span class=\"rank\">23.</span>,\n",
              " <span class=\"rank\">24.</span>,\n",
              " <span class=\"rank\">25.</span>,\n",
              " <span class=\"rank\">26.</span>,\n",
              " <span class=\"rank\">27.</span>,\n",
              " <span class=\"rank\">28.</span>,\n",
              " <span class=\"rank\">29.</span>,\n",
              " <span class=\"rank\">30.</span>]"
            ]
          },
          "metadata": {},
          "execution_count": 6
        }
      ]
    },
    {
      "cell_type": "code",
      "source": [
        "#extracting only the numbers from the ranks\n",
        "\n",
        "Title_rank =[]\n",
        "\n",
        "for rank in Ranks:\n",
        "    rank_id = rank.get_text()\n",
        "    Title_rank.append(rank_id)\n",
        "\n",
        "Title_rank\n"
      ],
      "metadata": {
        "colab": {
          "base_uri": "https://localhost:8080/"
        },
        "id": "bsgMj_d1nMkS",
        "outputId": "12872c12-4cd5-4a96-c763-4a2e317a9a93"
      },
      "execution_count": null,
      "outputs": [
        {
          "output_type": "execute_result",
          "data": {
            "text/plain": [
              "['1.',\n",
              " '2.',\n",
              " '3.',\n",
              " '4.',\n",
              " '5.',\n",
              " '6.',\n",
              " '7.',\n",
              " '8.',\n",
              " '9.',\n",
              " '10.',\n",
              " '11.',\n",
              " '12.',\n",
              " '13.',\n",
              " '14.',\n",
              " '15.',\n",
              " '16.',\n",
              " '17.',\n",
              " '18.',\n",
              " '19.',\n",
              " '20.',\n",
              " '21.',\n",
              " '22.',\n",
              " '23.',\n",
              " '24.',\n",
              " '25.',\n",
              " '26.',\n",
              " '27.',\n",
              " '28.',\n",
              " '29.',\n",
              " '30.']"
            ]
          },
          "metadata": {},
          "execution_count": 7
        }
      ]
    },
    {
      "cell_type": "markdown",
      "source": [
        "Scrapping the Titles"
      ],
      "metadata": {
        "id": "XI1RyVdCnj0U"
      }
    },
    {
      "cell_type": "code",
      "source": [
        "Titles = soup.find_all('span', class_=\"titleline\")\n",
        "\n",
        "Titles"
      ],
      "metadata": {
        "colab": {
          "base_uri": "https://localhost:8080/"
        },
        "id": "A00sEjyznWy-",
        "outputId": "bfd041cd-03f0-4e31-e757-dd7df811172d"
      },
      "execution_count": null,
      "outputs": [
        {
          "output_type": "execute_result",
          "data": {
            "text/plain": [
              "[<span class=\"titleline\"><a href=\"https://www.servethehome.com/synology-lost-the-plot-with-hard-drive-locking-move/\">Synology Lost the Plot with Hard Drive Locking Move</a><span class=\"sitebit comhead\"> (<a href=\"from?site=servethehome.com\"><span class=\"sitestr\">servethehome.com</span></a>)</span></span>,\n",
              " <span class=\"titleline\"><a href=\"https://blog.videah.net/attacking-my-landlords-boiler/\">Attacking My Landlord's Boiler</a><span class=\"sitebit comhead\"> (<a href=\"from?site=videah.net\"><span class=\"sitestr\">videah.net</span></a>)</span></span>,\n",
              " <span class=\"titleline\"><a href=\"https://github.com/ericjenott/Evertop\">Evertop: E-ink IBM XT clone with 100+ hours of battery life</a><span class=\"sitebit comhead\"> (<a href=\"from?site=github.com/ericjenott\"><span class=\"sitestr\">github.com/ericjenott</span></a>)</span></span>,\n",
              " <span class=\"titleline\"><a href=\"https://github.com/secure-foundations/verus\">Verus: Verified Rust for low-level systems code</a><span class=\"sitebit comhead\"> (<a href=\"from?site=github.com/secure-foundations\"><span class=\"sitestr\">github.com/secure-foundations</span></a>)</span></span>,\n",
              " <span class=\"titleline\"><a href=\"https://mcr21.org.uk/\">Welcome to our website for the 1963 BBC MCR21 OB Van</a><span class=\"sitebit comhead\"> (<a href=\"from?site=mcr21.org.uk\"><span class=\"sitestr\">mcr21.org.uk</span></a>)</span></span>,\n",
              " <span class=\"titleline\"><a href=\"https://blog.infected.systems/posts/2025-04-21-this-blog-is-hosted-on-a-nintendo-wii/\">Blog hosted on a Nintendo Wii</a><span class=\"sitebit comhead\"> (<a href=\"from?site=infected.systems\"><span class=\"sitestr\">infected.systems</span></a>)</span></span>,\n",
              " <span class=\"titleline\"><a href=\"https://github.com/nari-labs/dia\">Show HN: Dia, an open-weights TTS model for generating realistic dialogue</a><span class=\"sitebit comhead\"> (<a href=\"from?site=github.com/nari-labs\"><span class=\"sitestr\">github.com/nari-labs</span></a>)</span></span>,\n",
              " <span class=\"titleline\"><a href=\"https://github.com/stefanrodrigues2/Prolog-Adventure-game\">Prolog Adventure Game</a><span class=\"sitebit comhead\"> (<a href=\"from?site=github.com/stefanrodrigues2\"><span class=\"sitestr\">github.com/stefanrodrigues2</span></a>)</span></span>,\n",
              " <span class=\"titleline\"><a href=\"https://www.fujitsu.com/global/about/resources/news/press-releases/2025/0422-01.html\">Fujitsu and RIKEN develop world-leading 256-qubit sup quantum computer</a><span class=\"sitebit comhead\"> (<a href=\"from?site=fujitsu.com\"><span class=\"sitestr\">fujitsu.com</span></a>)</span></span>,\n",
              " <span class=\"titleline\"><a href=\"https://github.com/maurymarkowitz/101-BASIC-Computer-Games\">101 BASIC Computer Games</a><span class=\"sitebit comhead\"> (<a href=\"from?site=github.com/maurymarkowitz\"><span class=\"sitestr\">github.com/maurymarkowitz</span></a>)</span></span>,\n",
              " <span class=\"titleline\"><a href=\"https://arxiv.org/abs/2503.18813\">CaMeL: Defeating Prompt Injections by Design</a><span class=\"sitebit comhead\"> (<a href=\"from?site=arxiv.org\"><span class=\"sitestr\">arxiv.org</span></a>)</span></span>,\n",
              " <span class=\"titleline\"><a href=\"https://mcyoung.xyz/2025/04/21/go-arenas/\">Cheating the Reaper in Go</a><span class=\"sitebit comhead\"> (<a href=\"from?site=mcyoung.xyz\"><span class=\"sitestr\">mcyoung.xyz</span></a>)</span></span>,\n",
              " <span class=\"titleline\"><a href=\"item?id=43752176\">Launch HN: Magic Patterns (YC W23) – AI Design and Prototyping for Product Teams</a></span>,\n",
              " <span class=\"titleline\"><a href=\"https://phys.org/news/2025-04-astronomers-lone-black-hole.html\">Astronomers confirm the existence of a lone black hole</a><span class=\"sitebit comhead\"> (<a href=\"from?site=phys.org\"><span class=\"sitestr\">phys.org</span></a>)</span></span>,\n",
              " <span class=\"titleline\"><a href=\"https://www.wsj.com/arts-culture/books/world-war-zoos-review-of-bombs-and-beasts-a037c4b6\">'World War Zoos' Review: Of Bombs and Beasts</a><span class=\"sitebit comhead\"> (<a href=\"from?site=wsj.com\"><span class=\"sitestr\">wsj.com</span></a>)</span></span>,\n",
              " <span class=\"titleline\"><a href=\"https://bsky.social/about/blog/04-21-2025-verification\">A new form of verification on Bluesky</a><span class=\"sitebit comhead\"> (<a href=\"from?site=bsky.social\"><span class=\"sitestr\">bsky.social</span></a>)</span></span>,\n",
              " <span class=\"titleline\"><a href=\"https://peterwildeford.substack.com/p/forecaster-reacts-metrs-bombshell\">Forecaster reacts: METR's bombshell paper about AI acceleration</a><span class=\"sitebit comhead\"> (<a href=\"from?site=peterwildeford.substack.com\"><span class=\"sitestr\">peterwildeford.substack.com</span></a>)</span></span>,\n",
              " <span class=\"titleline\"><a href=\"https://lwn.net/Articles/1016243/\">An Update on Pahole</a><span class=\"sitebit comhead\"> (<a href=\"from?site=lwn.net\"><span class=\"sitestr\">lwn.net</span></a>)</span></span>,\n",
              " <span class=\"titleline\"><a href=\"https://matthewsinclair.com/blog/0178-why-llm-powered-programming-is-more-mech-suit-than-artificial-human\">LLM-powered tools amplify developer capabilities rather than replacing them</a><span class=\"sitebit comhead\"> (<a href=\"from?site=matthewsinclair.com\"><span class=\"sitestr\">matthewsinclair.com</span></a>)</span></span>,\n",
              " <span class=\"titleline\"><a href=\"https://herecomesthemoon.net/2025/04/pipelining/\">Pipelining might be my favorite programming language feature</a><span class=\"sitebit comhead\"> (<a href=\"from?site=herecomesthemoon.net\"><span class=\"sitestr\">herecomesthemoon.net</span></a>)</span></span>,\n",
              " <span class=\"titleline\"><a href=\"https://arxiv.org/abs/2504.05001\">Ultra-precision formation flying demonstration for space-based interferometry</a><span class=\"sitebit comhead\"> (<a href=\"from?site=arxiv.org\"><span class=\"sitestr\">arxiv.org</span></a>)</span></span>,\n",
              " <span class=\"titleline\"><a href=\"https://interfacinglinux.com/2025/04/18/magewell-eco-m-2-hdmi-capture-card/\">A M.2 HDMI capture card</a><span class=\"sitebit comhead\"> (<a href=\"from?site=interfacinglinux.com\"><span class=\"sitestr\">interfacinglinux.com</span></a>)</span></span>,\n",
              " <span class=\"titleline\"><a href=\"https://www.michalfarkas.net/moonbugs/\" rel=\"nofollow\">Moon Bugs (2018)</a><span class=\"sitebit comhead\"> (<a href=\"from?site=michalfarkas.net\"><span class=\"sitestr\">michalfarkas.net</span></a>)</span></span>,\n",
              " <span class=\"titleline\"><a href=\"https://www.nature.com/articles/s41586-025-08700-0\" rel=\"nofollow\">Phase I/II trial of iPS-cell-derived dopaminergic cells for Parkinson's disease</a><span class=\"sitebit comhead\"> (<a href=\"from?site=nature.com\"><span class=\"sitestr\">nature.com</span></a>)</span></span>,\n",
              " <span class=\"titleline\"><a href=\"https://simonwillison.net/2025/Apr/21/ai-assisted-search/\">AI assisted search-based research works now</a><span class=\"sitebit comhead\"> (<a href=\"from?site=simonwillison.net\"><span class=\"sitestr\">simonwillison.net</span></a>)</span></span>,\n",
              " <span class=\"titleline\"><a href=\"https://www.epic.com/visiting/\">Visiting Us</a><span class=\"sitebit comhead\"> (<a href=\"from?site=epic.com\"><span class=\"sitestr\">epic.com</span></a>)</span></span>,\n",
              " <span class=\"titleline\"><a href=\"https://github.com/codingmoh/open-codex\">Show HN: Open Codex – OpenAI Codex CLI with open-source LLMs</a><span class=\"sitebit comhead\"> (<a href=\"from?site=github.com/codingmoh\"><span class=\"sitestr\">github.com/codingmoh</span></a>)</span></span>,\n",
              " <span class=\"titleline\"><a href=\"https://www.ycombinator.com/companies/cekura-2/jobs/xaoCPco-founding-engineer\">Cekura (Formerly Vocera) (YC F24) Is Hiring</a><span class=\"sitebit comhead\"> (<a href=\"from?site=ycombinator.com\"><span class=\"sitestr\">ycombinator.com</span></a>)</span></span>,\n",
              " <span class=\"titleline\"><a href=\"https://arxiv.org/abs/2309.07932\">Flat origami is Turing complete (2023)</a><span class=\"sitebit comhead\"> (<a href=\"from?site=arxiv.org\"><span class=\"sitestr\">arxiv.org</span></a>)</span></span>,\n",
              " <span class=\"titleline\"><a href=\"https://www.quantamagazine.org/how-a-biofilms-strange-shape-emerges-from-cellular-geometry-20250421/\">How a Biofilm’s Strange Shape Emerges From Cellular Geometry</a><span class=\"sitebit comhead\"> (<a href=\"from?site=quantamagazine.org\"><span class=\"sitestr\">quantamagazine.org</span></a>)</span></span>]"
            ]
          },
          "metadata": {},
          "execution_count": 8
        }
      ]
    },
    {
      "cell_type": "code",
      "source": [
        "Title_name = []\n",
        "\n",
        "for title in Titles:\n",
        "    Name = title.get_text()\n",
        "    Title_name.append(Name)\n",
        "\n",
        "Title_name"
      ],
      "metadata": {
        "colab": {
          "base_uri": "https://localhost:8080/"
        },
        "id": "RVrryKuynm7e",
        "outputId": "fcd2deac-b48c-4366-f09b-d80aa0bef2bd"
      },
      "execution_count": null,
      "outputs": [
        {
          "output_type": "execute_result",
          "data": {
            "text/plain": [
              "['Synology Lost the Plot with Hard Drive Locking Move (servethehome.com)',\n",
              " \"Attacking My Landlord's Boiler (videah.net)\",\n",
              " 'Evertop: E-ink IBM XT clone with 100+ hours of battery life (github.com/ericjenott)',\n",
              " 'Verus: Verified Rust for low-level systems code (github.com/secure-foundations)',\n",
              " 'Welcome to our website for the 1963 BBC MCR21 OB Van (mcr21.org.uk)',\n",
              " 'Blog hosted on a Nintendo Wii (infected.systems)',\n",
              " 'Show HN: Dia, an open-weights TTS model for generating realistic dialogue (github.com/nari-labs)',\n",
              " 'Prolog Adventure Game (github.com/stefanrodrigues2)',\n",
              " 'Fujitsu and RIKEN develop world-leading 256-qubit sup quantum computer (fujitsu.com)',\n",
              " '101 BASIC Computer Games (github.com/maurymarkowitz)',\n",
              " 'CaMeL: Defeating Prompt Injections by Design (arxiv.org)',\n",
              " 'Cheating the Reaper in Go (mcyoung.xyz)',\n",
              " 'Launch HN: Magic Patterns (YC W23) – AI Design and Prototyping for Product Teams',\n",
              " 'Astronomers confirm the existence of a lone black hole (phys.org)',\n",
              " \"'World War Zoos' Review: Of Bombs and Beasts (wsj.com)\",\n",
              " 'A new form of verification on Bluesky (bsky.social)',\n",
              " \"Forecaster reacts: METR's bombshell paper about AI acceleration (peterwildeford.substack.com)\",\n",
              " 'An Update on Pahole (lwn.net)',\n",
              " 'LLM-powered tools amplify developer capabilities rather than replacing them (matthewsinclair.com)',\n",
              " 'Pipelining might be my favorite programming language feature (herecomesthemoon.net)',\n",
              " 'Ultra-precision formation flying demonstration for space-based interferometry (arxiv.org)',\n",
              " 'A M.2 HDMI capture card (interfacinglinux.com)',\n",
              " 'Moon Bugs (2018) (michalfarkas.net)',\n",
              " \"Phase I/II trial of iPS-cell-derived dopaminergic cells for Parkinson's disease (nature.com)\",\n",
              " 'AI assisted search-based research works now (simonwillison.net)',\n",
              " 'Visiting Us (epic.com)',\n",
              " 'Show HN: Open Codex – OpenAI Codex CLI with open-source LLMs (github.com/codingmoh)',\n",
              " 'Cekura (Formerly Vocera) (YC F24) Is Hiring (ycombinator.com)',\n",
              " 'Flat origami is Turing complete (2023) (arxiv.org)',\n",
              " 'How a Biofilm’s Strange Shape Emerges From Cellular Geometry (quantamagazine.org)']"
            ]
          },
          "metadata": {},
          "execution_count": 9
        }
      ]
    },
    {
      "cell_type": "markdown",
      "source": [
        "Extracting the Street_Name"
      ],
      "metadata": {
        "id": "V2RKurDXnwkw"
      }
    },
    {
      "cell_type": "code",
      "source": [
        "streets = soup .find_all('span', class_=\"sitestr\")\n",
        "\n",
        "streets"
      ],
      "metadata": {
        "colab": {
          "base_uri": "https://localhost:8080/"
        },
        "id": "NMQ2E7tbnp5Z",
        "outputId": "a9bdf6d3-cde1-4669-e5de-c1a589a277e3"
      },
      "execution_count": null,
      "outputs": [
        {
          "output_type": "execute_result",
          "data": {
            "text/plain": [
              "[<span class=\"sitestr\">servethehome.com</span>,\n",
              " <span class=\"sitestr\">videah.net</span>,\n",
              " <span class=\"sitestr\">github.com/ericjenott</span>,\n",
              " <span class=\"sitestr\">github.com/secure-foundations</span>,\n",
              " <span class=\"sitestr\">mcr21.org.uk</span>,\n",
              " <span class=\"sitestr\">infected.systems</span>,\n",
              " <span class=\"sitestr\">github.com/nari-labs</span>,\n",
              " <span class=\"sitestr\">github.com/stefanrodrigues2</span>,\n",
              " <span class=\"sitestr\">fujitsu.com</span>,\n",
              " <span class=\"sitestr\">github.com/maurymarkowitz</span>,\n",
              " <span class=\"sitestr\">arxiv.org</span>,\n",
              " <span class=\"sitestr\">mcyoung.xyz</span>,\n",
              " <span class=\"sitestr\">phys.org</span>,\n",
              " <span class=\"sitestr\">wsj.com</span>,\n",
              " <span class=\"sitestr\">bsky.social</span>,\n",
              " <span class=\"sitestr\">peterwildeford.substack.com</span>,\n",
              " <span class=\"sitestr\">lwn.net</span>,\n",
              " <span class=\"sitestr\">matthewsinclair.com</span>,\n",
              " <span class=\"sitestr\">herecomesthemoon.net</span>,\n",
              " <span class=\"sitestr\">arxiv.org</span>,\n",
              " <span class=\"sitestr\">interfacinglinux.com</span>,\n",
              " <span class=\"sitestr\">michalfarkas.net</span>,\n",
              " <span class=\"sitestr\">nature.com</span>,\n",
              " <span class=\"sitestr\">simonwillison.net</span>,\n",
              " <span class=\"sitestr\">epic.com</span>,\n",
              " <span class=\"sitestr\">github.com/codingmoh</span>,\n",
              " <span class=\"sitestr\">ycombinator.com</span>,\n",
              " <span class=\"sitestr\">arxiv.org</span>,\n",
              " <span class=\"sitestr\">quantamagazine.org</span>]"
            ]
          },
          "metadata": {},
          "execution_count": 10
        }
      ]
    },
    {
      "cell_type": "code",
      "source": [
        "Street_name =[]\n",
        "\n",
        "for street in streets:\n",
        "    site_street  = street.get_text()\n",
        "    Street_name.append(site_street)\n",
        "\n",
        "Street_name"
      ],
      "metadata": {
        "colab": {
          "base_uri": "https://localhost:8080/"
        },
        "id": "7sAtJCnvns_j",
        "outputId": "3fc24dde-ba3c-44a4-91fd-149cd2d71f98"
      },
      "execution_count": null,
      "outputs": [
        {
          "output_type": "execute_result",
          "data": {
            "text/plain": [
              "['servethehome.com',\n",
              " 'videah.net',\n",
              " 'github.com/ericjenott',\n",
              " 'github.com/secure-foundations',\n",
              " 'mcr21.org.uk',\n",
              " 'infected.systems',\n",
              " 'github.com/nari-labs',\n",
              " 'github.com/stefanrodrigues2',\n",
              " 'fujitsu.com',\n",
              " 'github.com/maurymarkowitz',\n",
              " 'arxiv.org',\n",
              " 'mcyoung.xyz',\n",
              " 'phys.org',\n",
              " 'wsj.com',\n",
              " 'bsky.social',\n",
              " 'peterwildeford.substack.com',\n",
              " 'lwn.net',\n",
              " 'matthewsinclair.com',\n",
              " 'herecomesthemoon.net',\n",
              " 'arxiv.org',\n",
              " 'interfacinglinux.com',\n",
              " 'michalfarkas.net',\n",
              " 'nature.com',\n",
              " 'simonwillison.net',\n",
              " 'epic.com',\n",
              " 'github.com/codingmoh',\n",
              " 'ycombinator.com',\n",
              " 'arxiv.org',\n",
              " 'quantamagazine.org']"
            ]
          },
          "metadata": {},
          "execution_count": 11
        }
      ]
    },
    {
      "cell_type": "code",
      "source": [
        "len(Street_name)"
      ],
      "metadata": {
        "colab": {
          "base_uri": "https://localhost:8080/"
        },
        "id": "2xiAxL4XoZ7r",
        "outputId": "f3b2caba-2099-450a-b610-63c7b13a0a1a"
      },
      "execution_count": null,
      "outputs": [
        {
          "output_type": "execute_result",
          "data": {
            "text/plain": [
              "29"
            ]
          },
          "metadata": {},
          "execution_count": 21
        }
      ]
    },
    {
      "cell_type": "code",
      "source": [
        "Scores_No =[]\n",
        "\n",
        "Scores = soup.find_all('span', class_=\"score\")\n",
        "\n",
        "for score in Scores:\n",
        "    score_id = score.get_text()\n",
        "    Scores_No.append(score_id)\n"
      ],
      "metadata": {
        "id": "BJD3rBhYn1nN"
      },
      "execution_count": null,
      "outputs": []
    },
    {
      "cell_type": "code",
      "source": [
        "len(Scores_No)"
      ],
      "metadata": {
        "colab": {
          "base_uri": "https://localhost:8080/"
        },
        "id": "RT0BLoT1oRWm",
        "outputId": "0586cdde-eb34-468f-9e91-6648bcdf148f"
      },
      "execution_count": null,
      "outputs": [
        {
          "output_type": "execute_result",
          "data": {
            "text/plain": [
              "29"
            ]
          },
          "metadata": {},
          "execution_count": 19
        }
      ]
    },
    {
      "cell_type": "markdown",
      "source": [
        "Extracting the Ages"
      ],
      "metadata": {
        "id": "lP6nWYzcn7jo"
      }
    },
    {
      "cell_type": "code",
      "source": [
        "Ages = soup.find_all('span', class_=\"age\")\n",
        "\n",
        "Ages"
      ],
      "metadata": {
        "colab": {
          "base_uri": "https://localhost:8080/"
        },
        "id": "Y5CLy7_Tn4QS",
        "outputId": "59ab87da-1a3e-4cdf-bba5-a65c62b3f8ee"
      },
      "execution_count": null,
      "outputs": [
        {
          "output_type": "execute_result",
          "data": {
            "text/plain": [
              "[<span class=\"age\" title=\"2025-04-19T06:48:21 1745045301\"><a href=\"item?id=43734706\">6 hours ago</a></span>,\n",
              " <span class=\"age\" title=\"2025-04-22T04:27:40 1745296060\"><a href=\"item?id=43759073\">3 hours ago</a></span>,\n",
              " <span class=\"age\" title=\"2025-04-21T22:07:49 1745273269\"><a href=\"item?id=43757037\">10 hours ago</a></span>,\n",
              " <span class=\"age\" title=\"2025-04-20T19:38:29 1745177909\"><a href=\"item?id=43745987\">3 hours ago</a></span>,\n",
              " <span class=\"age\" title=\"2025-04-22T04:07:04 1745294824\"><a href=\"item?id=43758999\">4 hours ago</a></span>,\n",
              " <span class=\"age\" title=\"2025-04-21T18:29:04 1745260144\"><a href=\"item?id=43754953\">13 hours ago</a></span>,\n",
              " <span class=\"age\" title=\"2025-04-21T17:07:07 1745255227\"><a href=\"item?id=43754124\">15 hours ago</a></span>,\n",
              " <span class=\"age\" title=\"2025-04-22T00:25:12 1745281512\"><a href=\"item?id=43757916\">8 hours ago</a></span>,\n",
              " <span class=\"age\" title=\"2025-04-22T05:59:28 1745301568\"><a href=\"item?id=43759436\">2 hours ago</a></span>,\n",
              " <span class=\"age\" title=\"2025-04-21T22:47:38 1745275658\"><a href=\"item?id=43757341\">9 hours ago</a></span>,\n",
              " <span class=\"age\" title=\"2025-04-19T02:20:06 1745029206\"><a href=\"item?id=43733683\">4 hours ago</a></span>,\n",
              " <span class=\"age\" title=\"2025-04-21T21:46:32 1745271992\"><a href=\"item?id=43756871\">9 hours ago</a></span>,\n",
              " <span class=\"age\" title=\"2025-04-21T14:07:03 1745244423\"><a href=\"item?id=43752176\">17 hours ago</a></span>,\n",
              " <span class=\"age\" title=\"2025-04-21T18:36:23 1745260583\"><a href=\"item?id=43755017\">13 hours ago</a></span>,\n",
              " <span class=\"age\" title=\"2025-04-22T03:57:47 1745294267\"><a href=\"item?id=43758965\">4 hours ago</a></span>,\n",
              " <span class=\"age\" title=\"2025-04-21T16:16:51 1745252211\"><a href=\"item?id=43753651\">16 hours ago</a></span>,\n",
              " <span class=\"age\" title=\"2025-04-22T03:50:20 1745293820\"><a href=\"item?id=43758936\">4 hours ago</a></span>,\n",
              " <span class=\"age\" title=\"2025-04-19T11:43:08 1745062988\"><a href=\"item?id=43735764\">6 hours ago</a></span>,\n",
              " <span class=\"age\" title=\"2025-04-21T14:36:14 1745246174\"><a href=\"item?id=43752492\">17 hours ago</a></span>,\n",
              " <span class=\"age\" title=\"2025-04-21T12:16:16 1745237776\"><a href=\"item?id=43751076\">20 hours ago</a></span>,\n",
              " <span class=\"age\" title=\"2025-04-21T21:31:40 1745271100\"><a href=\"item?id=43756723\">10 hours ago</a></span>,\n",
              " <span class=\"age\" title=\"2025-04-21T19:01:55 1745262115\"><a href=\"item?id=43755286\">13 hours ago</a></span>,\n",
              " <span class=\"age\" title=\"2025-04-18T18:44:27 1745001867\"><a href=\"item?id=43730790\">2 hours ago</a></span>,\n",
              " <span class=\"age\" title=\"2025-04-18T11:46:09 1744976769\"><a href=\"item?id=43727158\">3 hours ago</a></span>,\n",
              " <span class=\"age\" title=\"2025-04-21T14:15:17 1745244917\"><a href=\"item?id=43752262\">18 hours ago</a></span>,\n",
              " <span class=\"age\" title=\"2025-04-21T20:49:20 1745268560\"><a href=\"item?id=43756309\">11 hours ago</a></span>,\n",
              " <span class=\"age\" title=\"2025-04-21T17:57:03 1745258223\"><a href=\"item?id=43754620\">14 hours ago</a></span>,\n",
              " <span class=\"age\" title=\"2025-04-21T21:00:53 1745269253\"><a href=\"item?id=43756417\">11 hours ago</a></span>,\n",
              " <span class=\"age\" title=\"2025-04-22T03:09:50 1745291390\"><a href=\"item?id=43758762\">5 hours ago</a></span>,\n",
              " <span class=\"age\" title=\"2025-04-22T01:14:05 1745284445\"><a href=\"item?id=43758211\">7 hours ago</a></span>]"
            ]
          },
          "metadata": {},
          "execution_count": 13
        }
      ]
    },
    {
      "cell_type": "code",
      "source": [
        "Last_Watched =[]\n",
        "\n",
        "for Age in Ages:\n",
        "    text= Age.get_text()\n",
        "    Last_Watched.append(text)\n",
        "Last_Watched"
      ],
      "metadata": {
        "colab": {
          "base_uri": "https://localhost:8080/"
        },
        "id": "dYq_6P3mn_Rh",
        "outputId": "47501dda-abdf-4461-f11d-32d5d2ab1c2e"
      },
      "execution_count": null,
      "outputs": [
        {
          "output_type": "execute_result",
          "data": {
            "text/plain": [
              "['6 hours ago',\n",
              " '3 hours ago',\n",
              " '10 hours ago',\n",
              " '3 hours ago',\n",
              " '4 hours ago',\n",
              " '13 hours ago',\n",
              " '15 hours ago',\n",
              " '8 hours ago',\n",
              " '2 hours ago',\n",
              " '9 hours ago',\n",
              " '4 hours ago',\n",
              " '9 hours ago',\n",
              " '17 hours ago',\n",
              " '13 hours ago',\n",
              " '4 hours ago',\n",
              " '16 hours ago',\n",
              " '4 hours ago',\n",
              " '6 hours ago',\n",
              " '17 hours ago',\n",
              " '20 hours ago',\n",
              " '10 hours ago',\n",
              " '13 hours ago',\n",
              " '2 hours ago',\n",
              " '3 hours ago',\n",
              " '18 hours ago',\n",
              " '11 hours ago',\n",
              " '14 hours ago',\n",
              " '11 hours ago',\n",
              " '5 hours ago',\n",
              " '7 hours ago']"
            ]
          },
          "metadata": {},
          "execution_count": 14
        }
      ]
    },
    {
      "cell_type": "code",
      "source": [
        "len(Last_Watched)"
      ],
      "metadata": {
        "colab": {
          "base_uri": "https://localhost:8080/"
        },
        "id": "p8XAYwYroBtJ",
        "outputId": "332bb8ac-7f8f-48c9-d503-65ca70716935"
      },
      "execution_count": null,
      "outputs": [
        {
          "output_type": "execute_result",
          "data": {
            "text/plain": [
              "30"
            ]
          },
          "metadata": {},
          "execution_count": 15
        }
      ]
    },
    {
      "cell_type": "markdown",
      "source": [
        "# Storing my scraped data in a data frame"
      ],
      "metadata": {
        "id": "NMdaOKd7oI6E"
      }
    },
    {
      "cell_type": "code",
      "source": [
        "Data = pd.DataFrame()\n",
        "\n",
        "Data['T_Rank'] = Title_rank[:29]\n",
        "Data['Title_nameTN'] =Title_name[:29]\n",
        "Data['Street_TC'] =Street_name\n",
        "Data['Points'] = Scores_No\n",
        "Data['Last_watched_HN'] =Last_Watched[:29]\n",
        "\n",
        "\n",
        "Data.head()"
      ],
      "metadata": {
        "colab": {
          "base_uri": "https://localhost:8080/",
          "height": 206
        },
        "id": "x1UtM6bOoELt",
        "outputId": "2357b923-dfb7-4afb-9139-a8f2f2045942"
      },
      "execution_count": null,
      "outputs": [
        {
          "output_type": "execute_result",
          "data": {
            "text/plain": [
              "  T_Rank                                       Title_nameTN  \\\n",
              "0     1.  Synology Lost the Plot with Hard Drive Locking...   \n",
              "1     2.        Attacking My Landlord's Boiler (videah.net)   \n",
              "2     3.  Evertop: E-ink IBM XT clone with 100+ hours of...   \n",
              "3     4.  Verus: Verified Rust for low-level systems cod...   \n",
              "4     5.  Welcome to our website for the 1963 BBC MCR21 ...   \n",
              "\n",
              "                       Street_TC      Points Last_watched_HN  \n",
              "0               servethehome.com  341 points     6 hours ago  \n",
              "1                     videah.net   76 points     3 hours ago  \n",
              "2          github.com/ericjenott  372 points    10 hours ago  \n",
              "3  github.com/secure-foundations   50 points     3 hours ago  \n",
              "4                   mcr21.org.uk   44 points     4 hours ago  "
            ],
            "text/html": [
              "\n",
              "  <div id=\"df-6fe9c87a-31b5-4d7a-9963-fc6b71469031\" class=\"colab-df-container\">\n",
              "    <div>\n",
              "<style scoped>\n",
              "    .dataframe tbody tr th:only-of-type {\n",
              "        vertical-align: middle;\n",
              "    }\n",
              "\n",
              "    .dataframe tbody tr th {\n",
              "        vertical-align: top;\n",
              "    }\n",
              "\n",
              "    .dataframe thead th {\n",
              "        text-align: right;\n",
              "    }\n",
              "</style>\n",
              "<table border=\"1\" class=\"dataframe\">\n",
              "  <thead>\n",
              "    <tr style=\"text-align: right;\">\n",
              "      <th></th>\n",
              "      <th>T_Rank</th>\n",
              "      <th>Title_nameTN</th>\n",
              "      <th>Street_TC</th>\n",
              "      <th>Points</th>\n",
              "      <th>Last_watched_HN</th>\n",
              "    </tr>\n",
              "  </thead>\n",
              "  <tbody>\n",
              "    <tr>\n",
              "      <th>0</th>\n",
              "      <td>1.</td>\n",
              "      <td>Synology Lost the Plot with Hard Drive Locking...</td>\n",
              "      <td>servethehome.com</td>\n",
              "      <td>341 points</td>\n",
              "      <td>6 hours ago</td>\n",
              "    </tr>\n",
              "    <tr>\n",
              "      <th>1</th>\n",
              "      <td>2.</td>\n",
              "      <td>Attacking My Landlord's Boiler (videah.net)</td>\n",
              "      <td>videah.net</td>\n",
              "      <td>76 points</td>\n",
              "      <td>3 hours ago</td>\n",
              "    </tr>\n",
              "    <tr>\n",
              "      <th>2</th>\n",
              "      <td>3.</td>\n",
              "      <td>Evertop: E-ink IBM XT clone with 100+ hours of...</td>\n",
              "      <td>github.com/ericjenott</td>\n",
              "      <td>372 points</td>\n",
              "      <td>10 hours ago</td>\n",
              "    </tr>\n",
              "    <tr>\n",
              "      <th>3</th>\n",
              "      <td>4.</td>\n",
              "      <td>Verus: Verified Rust for low-level systems cod...</td>\n",
              "      <td>github.com/secure-foundations</td>\n",
              "      <td>50 points</td>\n",
              "      <td>3 hours ago</td>\n",
              "    </tr>\n",
              "    <tr>\n",
              "      <th>4</th>\n",
              "      <td>5.</td>\n",
              "      <td>Welcome to our website for the 1963 BBC MCR21 ...</td>\n",
              "      <td>mcr21.org.uk</td>\n",
              "      <td>44 points</td>\n",
              "      <td>4 hours ago</td>\n",
              "    </tr>\n",
              "  </tbody>\n",
              "</table>\n",
              "</div>\n",
              "    <div class=\"colab-df-buttons\">\n",
              "\n",
              "  <div class=\"colab-df-container\">\n",
              "    <button class=\"colab-df-convert\" onclick=\"convertToInteractive('df-6fe9c87a-31b5-4d7a-9963-fc6b71469031')\"\n",
              "            title=\"Convert this dataframe to an interactive table.\"\n",
              "            style=\"display:none;\">\n",
              "\n",
              "  <svg xmlns=\"http://www.w3.org/2000/svg\" height=\"24px\" viewBox=\"0 -960 960 960\">\n",
              "    <path d=\"M120-120v-720h720v720H120Zm60-500h600v-160H180v160Zm220 220h160v-160H400v160Zm0 220h160v-160H400v160ZM180-400h160v-160H180v160Zm440 0h160v-160H620v160ZM180-180h160v-160H180v160Zm440 0h160v-160H620v160Z\"/>\n",
              "  </svg>\n",
              "    </button>\n",
              "\n",
              "  <style>\n",
              "    .colab-df-container {\n",
              "      display:flex;\n",
              "      gap: 12px;\n",
              "    }\n",
              "\n",
              "    .colab-df-convert {\n",
              "      background-color: #E8F0FE;\n",
              "      border: none;\n",
              "      border-radius: 50%;\n",
              "      cursor: pointer;\n",
              "      display: none;\n",
              "      fill: #1967D2;\n",
              "      height: 32px;\n",
              "      padding: 0 0 0 0;\n",
              "      width: 32px;\n",
              "    }\n",
              "\n",
              "    .colab-df-convert:hover {\n",
              "      background-color: #E2EBFA;\n",
              "      box-shadow: 0px 1px 2px rgba(60, 64, 67, 0.3), 0px 1px 3px 1px rgba(60, 64, 67, 0.15);\n",
              "      fill: #174EA6;\n",
              "    }\n",
              "\n",
              "    .colab-df-buttons div {\n",
              "      margin-bottom: 4px;\n",
              "    }\n",
              "\n",
              "    [theme=dark] .colab-df-convert {\n",
              "      background-color: #3B4455;\n",
              "      fill: #D2E3FC;\n",
              "    }\n",
              "\n",
              "    [theme=dark] .colab-df-convert:hover {\n",
              "      background-color: #434B5C;\n",
              "      box-shadow: 0px 1px 3px 1px rgba(0, 0, 0, 0.15);\n",
              "      filter: drop-shadow(0px 1px 2px rgba(0, 0, 0, 0.3));\n",
              "      fill: #FFFFFF;\n",
              "    }\n",
              "  </style>\n",
              "\n",
              "    <script>\n",
              "      const buttonEl =\n",
              "        document.querySelector('#df-6fe9c87a-31b5-4d7a-9963-fc6b71469031 button.colab-df-convert');\n",
              "      buttonEl.style.display =\n",
              "        google.colab.kernel.accessAllowed ? 'block' : 'none';\n",
              "\n",
              "      async function convertToInteractive(key) {\n",
              "        const element = document.querySelector('#df-6fe9c87a-31b5-4d7a-9963-fc6b71469031');\n",
              "        const dataTable =\n",
              "          await google.colab.kernel.invokeFunction('convertToInteractive',\n",
              "                                                    [key], {});\n",
              "        if (!dataTable) return;\n",
              "\n",
              "        const docLinkHtml = 'Like what you see? Visit the ' +\n",
              "          '<a target=\"_blank\" href=https://colab.research.google.com/notebooks/data_table.ipynb>data table notebook</a>'\n",
              "          + ' to learn more about interactive tables.';\n",
              "        element.innerHTML = '';\n",
              "        dataTable['output_type'] = 'display_data';\n",
              "        await google.colab.output.renderOutput(dataTable, element);\n",
              "        const docLink = document.createElement('div');\n",
              "        docLink.innerHTML = docLinkHtml;\n",
              "        element.appendChild(docLink);\n",
              "      }\n",
              "    </script>\n",
              "  </div>\n",
              "\n",
              "\n",
              "<div id=\"df-15bb797d-d6c4-46ac-958f-6cde7a1c57e1\">\n",
              "  <button class=\"colab-df-quickchart\" onclick=\"quickchart('df-15bb797d-d6c4-46ac-958f-6cde7a1c57e1')\"\n",
              "            title=\"Suggest charts\"\n",
              "            style=\"display:none;\">\n",
              "\n",
              "<svg xmlns=\"http://www.w3.org/2000/svg\" height=\"24px\"viewBox=\"0 0 24 24\"\n",
              "     width=\"24px\">\n",
              "    <g>\n",
              "        <path d=\"M19 3H5c-1.1 0-2 .9-2 2v14c0 1.1.9 2 2 2h14c1.1 0 2-.9 2-2V5c0-1.1-.9-2-2-2zM9 17H7v-7h2v7zm4 0h-2V7h2v10zm4 0h-2v-4h2v4z\"/>\n",
              "    </g>\n",
              "</svg>\n",
              "  </button>\n",
              "\n",
              "<style>\n",
              "  .colab-df-quickchart {\n",
              "      --bg-color: #E8F0FE;\n",
              "      --fill-color: #1967D2;\n",
              "      --hover-bg-color: #E2EBFA;\n",
              "      --hover-fill-color: #174EA6;\n",
              "      --disabled-fill-color: #AAA;\n",
              "      --disabled-bg-color: #DDD;\n",
              "  }\n",
              "\n",
              "  [theme=dark] .colab-df-quickchart {\n",
              "      --bg-color: #3B4455;\n",
              "      --fill-color: #D2E3FC;\n",
              "      --hover-bg-color: #434B5C;\n",
              "      --hover-fill-color: #FFFFFF;\n",
              "      --disabled-bg-color: #3B4455;\n",
              "      --disabled-fill-color: #666;\n",
              "  }\n",
              "\n",
              "  .colab-df-quickchart {\n",
              "    background-color: var(--bg-color);\n",
              "    border: none;\n",
              "    border-radius: 50%;\n",
              "    cursor: pointer;\n",
              "    display: none;\n",
              "    fill: var(--fill-color);\n",
              "    height: 32px;\n",
              "    padding: 0;\n",
              "    width: 32px;\n",
              "  }\n",
              "\n",
              "  .colab-df-quickchart:hover {\n",
              "    background-color: var(--hover-bg-color);\n",
              "    box-shadow: 0 1px 2px rgba(60, 64, 67, 0.3), 0 1px 3px 1px rgba(60, 64, 67, 0.15);\n",
              "    fill: var(--button-hover-fill-color);\n",
              "  }\n",
              "\n",
              "  .colab-df-quickchart-complete:disabled,\n",
              "  .colab-df-quickchart-complete:disabled:hover {\n",
              "    background-color: var(--disabled-bg-color);\n",
              "    fill: var(--disabled-fill-color);\n",
              "    box-shadow: none;\n",
              "  }\n",
              "\n",
              "  .colab-df-spinner {\n",
              "    border: 2px solid var(--fill-color);\n",
              "    border-color: transparent;\n",
              "    border-bottom-color: var(--fill-color);\n",
              "    animation:\n",
              "      spin 1s steps(1) infinite;\n",
              "  }\n",
              "\n",
              "  @keyframes spin {\n",
              "    0% {\n",
              "      border-color: transparent;\n",
              "      border-bottom-color: var(--fill-color);\n",
              "      border-left-color: var(--fill-color);\n",
              "    }\n",
              "    20% {\n",
              "      border-color: transparent;\n",
              "      border-left-color: var(--fill-color);\n",
              "      border-top-color: var(--fill-color);\n",
              "    }\n",
              "    30% {\n",
              "      border-color: transparent;\n",
              "      border-left-color: var(--fill-color);\n",
              "      border-top-color: var(--fill-color);\n",
              "      border-right-color: var(--fill-color);\n",
              "    }\n",
              "    40% {\n",
              "      border-color: transparent;\n",
              "      border-right-color: var(--fill-color);\n",
              "      border-top-color: var(--fill-color);\n",
              "    }\n",
              "    60% {\n",
              "      border-color: transparent;\n",
              "      border-right-color: var(--fill-color);\n",
              "    }\n",
              "    80% {\n",
              "      border-color: transparent;\n",
              "      border-right-color: var(--fill-color);\n",
              "      border-bottom-color: var(--fill-color);\n",
              "    }\n",
              "    90% {\n",
              "      border-color: transparent;\n",
              "      border-bottom-color: var(--fill-color);\n",
              "    }\n",
              "  }\n",
              "</style>\n",
              "\n",
              "  <script>\n",
              "    async function quickchart(key) {\n",
              "      const quickchartButtonEl =\n",
              "        document.querySelector('#' + key + ' button');\n",
              "      quickchartButtonEl.disabled = true;  // To prevent multiple clicks.\n",
              "      quickchartButtonEl.classList.add('colab-df-spinner');\n",
              "      try {\n",
              "        const charts = await google.colab.kernel.invokeFunction(\n",
              "            'suggestCharts', [key], {});\n",
              "      } catch (error) {\n",
              "        console.error('Error during call to suggestCharts:', error);\n",
              "      }\n",
              "      quickchartButtonEl.classList.remove('colab-df-spinner');\n",
              "      quickchartButtonEl.classList.add('colab-df-quickchart-complete');\n",
              "    }\n",
              "    (() => {\n",
              "      let quickchartButtonEl =\n",
              "        document.querySelector('#df-15bb797d-d6c4-46ac-958f-6cde7a1c57e1 button');\n",
              "      quickchartButtonEl.style.display =\n",
              "        google.colab.kernel.accessAllowed ? 'block' : 'none';\n",
              "    })();\n",
              "  </script>\n",
              "</div>\n",
              "\n",
              "    </div>\n",
              "  </div>\n"
            ],
            "application/vnd.google.colaboratory.intrinsic+json": {
              "type": "dataframe",
              "variable_name": "Data",
              "summary": "{\n  \"name\": \"Data\",\n  \"rows\": 29,\n  \"fields\": [\n    {\n      \"column\": \"T_Rank\",\n      \"properties\": {\n        \"dtype\": \"string\",\n        \"num_unique_values\": 29,\n        \"samples\": [\n          \"28.\",\n          \"17.\",\n          \"13.\"\n        ],\n        \"semantic_type\": \"\",\n        \"description\": \"\"\n      }\n    },\n    {\n      \"column\": \"Title_nameTN\",\n      \"properties\": {\n        \"dtype\": \"string\",\n        \"num_unique_values\": 29,\n        \"samples\": [\n          \"Cekura (Formerly Vocera) (YC F24) Is Hiring (ycombinator.com)\",\n          \"Forecaster reacts: METR's bombshell paper about AI acceleration (peterwildeford.substack.com)\",\n          \"Launch HN: Magic Patterns (YC W23) \\u2013 AI Design and Prototyping for Product Teams\"\n        ],\n        \"semantic_type\": \"\",\n        \"description\": \"\"\n      }\n    },\n    {\n      \"column\": \"Street_TC\",\n      \"properties\": {\n        \"dtype\": \"string\",\n        \"num_unique_values\": 27,\n        \"samples\": [\n          \"fujitsu.com\",\n          \"wsj.com\",\n          \"github.com/maurymarkowitz\"\n        ],\n        \"semantic_type\": \"\",\n        \"description\": \"\"\n      }\n    },\n    {\n      \"column\": \"Points\",\n      \"properties\": {\n        \"dtype\": \"string\",\n        \"num_unique_values\": 28,\n        \"samples\": [\n          \"78 points\",\n          \"75 points\",\n          \"11 points\"\n        ],\n        \"semantic_type\": \"\",\n        \"description\": \"\"\n      }\n    },\n    {\n      \"column\": \"Last_watched_HN\",\n      \"properties\": {\n        \"dtype\": \"string\",\n        \"num_unique_values\": 16,\n        \"samples\": [\n          \"6 hours ago\",\n          \"3 hours ago\",\n          \"15 hours ago\"\n        ],\n        \"semantic_type\": \"\",\n        \"description\": \"\"\n      }\n    }\n  ]\n}"
            }
          },
          "metadata": {},
          "execution_count": 16
        }
      ]
    },
    {
      "cell_type": "code",
      "source": [
        "Data.to_csv('Hacker_news.csv',index=False)"
      ],
      "metadata": {
        "id": "OfUXMn8xoL1x"
      },
      "execution_count": null,
      "outputs": []
    },
    {
      "cell_type": "code",
      "source": [],
      "metadata": {
        "id": "JoojCr4moN_g"
      },
      "execution_count": null,
      "outputs": []
    }
  ]
}